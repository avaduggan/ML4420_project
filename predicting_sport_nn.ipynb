{
 "cells": [
  {
   "cell_type": "code",
   "execution_count": 1,
   "metadata": {},
   "outputs": [],
   "source": [
    "import pandas as pd\n",
    "import numpy as np\n",
    "from sklearn.model_selection import train_test_split\n",
    "from sklearn.neural_network import MLPClassifier\n",
    "from sklearn.metrics import accuracy_score"
   ]
  },
  {
   "cell_type": "code",
   "execution_count": 2,
   "metadata": {},
   "outputs": [
    {
     "data": {
      "text/html": [
       "<div>\n",
       "<style scoped>\n",
       "    .dataframe tbody tr th:only-of-type {\n",
       "        vertical-align: middle;\n",
       "    }\n",
       "\n",
       "    .dataframe tbody tr th {\n",
       "        vertical-align: top;\n",
       "    }\n",
       "\n",
       "    .dataframe thead th {\n",
       "        text-align: right;\n",
       "    }\n",
       "</style>\n",
       "<table border=\"1\" class=\"dataframe\">\n",
       "  <thead>\n",
       "    <tr style=\"text-align: right;\">\n",
       "      <th></th>\n",
       "      <th>Sport</th>\n",
       "      <th>Count</th>\n",
       "    </tr>\n",
       "  </thead>\n",
       "  <tbody>\n",
       "    <tr>\n",
       "      <th>3</th>\n",
       "      <td>Athletics</td>\n",
       "      <td>32374</td>\n",
       "    </tr>\n",
       "    <tr>\n",
       "      <th>44</th>\n",
       "      <td>Swimming</td>\n",
       "      <td>18776</td>\n",
       "    </tr>\n",
       "    <tr>\n",
       "      <th>22</th>\n",
       "      <td>Gymnastics</td>\n",
       "      <td>18271</td>\n",
       "    </tr>\n",
       "    <tr>\n",
       "      <th>33</th>\n",
       "      <td>Rowing</td>\n",
       "      <td>7790</td>\n",
       "    </tr>\n",
       "    <tr>\n",
       "      <th>14</th>\n",
       "      <td>Cycling</td>\n",
       "      <td>7775</td>\n",
       "    </tr>\n",
       "    <tr>\n",
       "      <th>12</th>\n",
       "      <td>Cross Country Skiing</td>\n",
       "      <td>7529</td>\n",
       "    </tr>\n",
       "    <tr>\n",
       "      <th>37</th>\n",
       "      <td>Shooting</td>\n",
       "      <td>7260</td>\n",
       "    </tr>\n",
       "    <tr>\n",
       "      <th>17</th>\n",
       "      <td>Fencing</td>\n",
       "      <td>6537</td>\n",
       "    </tr>\n",
       "    <tr>\n",
       "      <th>0</th>\n",
       "      <td>Alpine Skiing</td>\n",
       "      <td>6322</td>\n",
       "    </tr>\n",
       "    <tr>\n",
       "      <th>11</th>\n",
       "      <td>Canoeing</td>\n",
       "      <td>5550</td>\n",
       "    </tr>\n",
       "  </tbody>\n",
       "</table>\n",
       "</div>"
      ],
      "text/plain": [
       "                   Sport  Count\n",
       "3              Athletics  32374\n",
       "44              Swimming  18776\n",
       "22            Gymnastics  18271\n",
       "33                Rowing   7790\n",
       "14               Cycling   7775\n",
       "12  Cross Country Skiing   7529\n",
       "37              Shooting   7260\n",
       "17               Fencing   6537\n",
       "0          Alpine Skiing   6322\n",
       "11              Canoeing   5550"
      ]
     },
     "execution_count": 2,
     "metadata": {},
     "output_type": "execute_result"
    }
   ],
   "source": [
    "df = pd.read_csv(\"data/athlete_events.csv\")\n",
    "# drop cols which have NA for suggusted features\n",
    "df = df.dropna(subset=['Age', 'Height', 'Weight', 'Sex'])\n",
    "df.groupby(['Sport']).size().reset_index(name='Count').sort_values(\"Count\", ascending=False).iloc[:10,:]"
   ]
  },
  {
   "cell_type": "code",
   "execution_count": 3,
   "metadata": {},
   "outputs": [
    {
     "data": {
      "text/html": [
       "<div>\n",
       "<style scoped>\n",
       "    .dataframe tbody tr th:only-of-type {\n",
       "        vertical-align: middle;\n",
       "    }\n",
       "\n",
       "    .dataframe tbody tr th {\n",
       "        vertical-align: top;\n",
       "    }\n",
       "\n",
       "    .dataframe thead th {\n",
       "        text-align: right;\n",
       "    }\n",
       "</style>\n",
       "<table border=\"1\" class=\"dataframe\">\n",
       "  <thead>\n",
       "    <tr style=\"text-align: right;\">\n",
       "      <th></th>\n",
       "      <th>Age</th>\n",
       "      <th>Height</th>\n",
       "      <th>Weight</th>\n",
       "      <th>Sport</th>\n",
       "      <th>Sex_F</th>\n",
       "      <th>Sex_M</th>\n",
       "    </tr>\n",
       "  </thead>\n",
       "  <tbody>\n",
       "    <tr>\n",
       "      <th>41</th>\n",
       "      <td>28.0</td>\n",
       "      <td>175.0</td>\n",
       "      <td>64.0</td>\n",
       "      <td>Gymnastics</td>\n",
       "      <td>0</td>\n",
       "      <td>1</td>\n",
       "    </tr>\n",
       "    <tr>\n",
       "      <th>42</th>\n",
       "      <td>28.0</td>\n",
       "      <td>175.0</td>\n",
       "      <td>64.0</td>\n",
       "      <td>Gymnastics</td>\n",
       "      <td>0</td>\n",
       "      <td>1</td>\n",
       "    </tr>\n",
       "    <tr>\n",
       "      <th>43</th>\n",
       "      <td>28.0</td>\n",
       "      <td>175.0</td>\n",
       "      <td>64.0</td>\n",
       "      <td>Gymnastics</td>\n",
       "      <td>0</td>\n",
       "      <td>1</td>\n",
       "    </tr>\n",
       "    <tr>\n",
       "      <th>44</th>\n",
       "      <td>28.0</td>\n",
       "      <td>175.0</td>\n",
       "      <td>64.0</td>\n",
       "      <td>Gymnastics</td>\n",
       "      <td>0</td>\n",
       "      <td>1</td>\n",
       "    </tr>\n",
       "    <tr>\n",
       "      <th>45</th>\n",
       "      <td>28.0</td>\n",
       "      <td>175.0</td>\n",
       "      <td>64.0</td>\n",
       "      <td>Gymnastics</td>\n",
       "      <td>0</td>\n",
       "      <td>1</td>\n",
       "    </tr>\n",
       "  </tbody>\n",
       "</table>\n",
       "</div>"
      ],
      "text/plain": [
       "     Age  Height  Weight       Sport  Sex_F  Sex_M\n",
       "41  28.0   175.0    64.0  Gymnastics      0      1\n",
       "42  28.0   175.0    64.0  Gymnastics      0      1\n",
       "43  28.0   175.0    64.0  Gymnastics      0      1\n",
       "44  28.0   175.0    64.0  Gymnastics      0      1\n",
       "45  28.0   175.0    64.0  Gymnastics      0      1"
      ]
     },
     "execution_count": 3,
     "metadata": {},
     "output_type": "execute_result"
    }
   ],
   "source": [
    "df_pred_events = df[df[\"Sport\"].isin([\"Swimming\", \"Gymnastics\", \"Rowing\", \"Cycling\", \"Fencing\"])]\n",
    "df_pred_events = df_pred_events[[\"Age\", \"Height\", \"Weight\", \"Sex\", \"Sport\"]]\n",
    "\n",
    "df_pred_events[\"Sex_F\"] = np.where(df_pred_events['Sex'] == \"F\", 1, 0)\n",
    "df_pred_events[\"Sex_M\"] = np.where(df_pred_events['Sex'] == \"M\", 1, 0)\n",
    "df_pred_events = df_pred_events.drop('Sex', axis=1)\n",
    "\n",
    "df_pred_events.head()"
   ]
  },
  {
   "cell_type": "code",
   "execution_count": 4,
   "metadata": {},
   "outputs": [],
   "source": [
    "def scale(x):\n",
    "    return (x - min(x)) / (max(x) - min(x))\n",
    "\n",
    "df_pred_events[[\"Age\", \"Height\", \"Weight\"]] = df_pred_events[[\"Age\", \"Height\", \"Weight\"]].apply(scale)\n",
    "\n",
    "# split into features and test train split\n",
    "y = df_pred_events[\"Sport\"]\n",
    "X = df_pred_events[[\"Age\", \"Height\", \"Weight\", \"Sex_F\", \"Sex_M\"]]\n",
    "X_train, X_test, y_train, y_test = train_test_split(X, y, test_size=0.2)"
   ]
  },
  {
   "cell_type": "code",
   "execution_count": 5,
   "metadata": {},
   "outputs": [
    {
     "name": "stdout",
     "output_type": "stream",
     "text": [
      "0.6622992392223161\n"
     ]
    }
   ],
   "source": [
    "# train model\n",
    "mlp = MLPClassifier(hidden_layer_sizes=(200, 100, 50), activation=\"relu\", solver=\"adam\", max_iter=1000, random_state=42)\n",
    "mlp.fit(X_train, y_train)\n",
    "\n",
    "# see how model performs\n",
    "y_pred = mlp.predict(X_test)\n",
    "accuracy = accuracy_score(y_test, y_pred)\n",
    "\n",
    "print(accuracy)"
   ]
  },
  {
   "cell_type": "code",
   "execution_count": 6,
   "metadata": {},
   "outputs": [
    {
     "data": {
      "text/html": [
       "<div>\n",
       "<style scoped>\n",
       "    .dataframe tbody tr th:only-of-type {\n",
       "        vertical-align: middle;\n",
       "    }\n",
       "\n",
       "    .dataframe tbody tr th {\n",
       "        vertical-align: top;\n",
       "    }\n",
       "\n",
       "    .dataframe thead th {\n",
       "        text-align: right;\n",
       "    }\n",
       "</style>\n",
       "<table border=\"1\" class=\"dataframe\">\n",
       "  <thead>\n",
       "    <tr style=\"text-align: right;\">\n",
       "      <th></th>\n",
       "      <th>correct_label</th>\n",
       "      <th>accuracy_percentage</th>\n",
       "    </tr>\n",
       "  </thead>\n",
       "  <tbody>\n",
       "    <tr>\n",
       "      <th>0</th>\n",
       "      <td>Cycling</td>\n",
       "      <td>28.034301</td>\n",
       "    </tr>\n",
       "    <tr>\n",
       "      <th>1</th>\n",
       "      <td>Fencing</td>\n",
       "      <td>27.450980</td>\n",
       "    </tr>\n",
       "    <tr>\n",
       "      <th>2</th>\n",
       "      <td>Gymnastics</td>\n",
       "      <td>91.616106</td>\n",
       "    </tr>\n",
       "    <tr>\n",
       "      <th>3</th>\n",
       "      <td>Rowing</td>\n",
       "      <td>60.607940</td>\n",
       "    </tr>\n",
       "    <tr>\n",
       "      <th>4</th>\n",
       "      <td>Swimming</td>\n",
       "      <td>73.253333</td>\n",
       "    </tr>\n",
       "  </tbody>\n",
       "</table>\n",
       "</div>"
      ],
      "text/plain": [
       "  correct_label  accuracy_percentage\n",
       "0       Cycling            28.034301\n",
       "1       Fencing            27.450980\n",
       "2    Gymnastics            91.616106\n",
       "3        Rowing            60.607940\n",
       "4      Swimming            73.253333"
      ]
     },
     "execution_count": 6,
     "metadata": {},
     "output_type": "execute_result"
    }
   ],
   "source": [
    "results = {\"labels\":y_test, \"predicted\":y_pred}\n",
    "df_results = pd.DataFrame(results)\n",
    "\n",
    "df_results[\"is_correct\"] = df_results[\"labels\"] == df_results['predicted']\n",
    "df_counts = df_results.groupby([\"labels\", \"is_correct\"]).size().reset_index(name=\"count\")\n",
    "\n",
    "total_counts = df_results.groupby('labels').size()\n",
    "correct_counts = df_results[df_results['labels'] == df_results['predicted']].groupby(\"labels\").size()\n",
    "\n",
    "# Compute the percentage of correct predictions\n",
    "accuracy = (correct_counts / total_counts * 100).fillna(0).reset_index()\n",
    "accuracy.columns = ['correct_label', 'accuracy_percentage']\n",
    "\n",
    "accuracy"
   ]
  },
  {
   "cell_type": "code",
   "execution_count": 7,
   "metadata": {},
   "outputs": [
    {
     "data": {
      "image/png": "[encoded data removed]",
      "text/plain": [
       "<Figure size 640x480 with 2 Axes>"
      ]
     },
     "metadata": {},
     "output_type": "display_data"
    }
   ],
   "source": [
    "import matplotlib.pyplot as plt\n",
    "\n",
    "sorted_labels = np.sort(df_results[\"labels\"].unique())\n",
    "\n",
    "index_dict = {label: i for i, label in enumerate(sorted_labels)}\n",
    "\n",
    "df_results[\"labels_indexed\"] = df_results[\"labels\"].map(index_dict)\n",
    "df_results[\"predictions_indexed\"] = df_results[\"predicted\"].map(index_dict)\n",
    "\n",
    "plt.hist2d(df_results[\"labels_indexed\"], df_results[\"predictions_indexed\"], bins=5, cmap=plt.cm.Blues)\n",
    "\n",
    "\n",
    "plt.xticks(ticks=np.arange(len(sorted_labels)), labels=sorted_labels, rotation=45)\n",
    "plt.yticks(ticks=np.arange(len(sorted_labels)), labels=sorted_labels)\n",
    "\n",
    "# Add labels and title\n",
    "plt.xlabel('Correct Labels')\n",
    "plt.ylabel('Predictions')\n",
    "\n",
    "# Add a colorbar to show the frequency scale\n",
    "plt.colorbar(label='Frequency')\n",
    "\n",
    "# Show the plot\n",
    "plt.show()"
   ]
  }
 ],
 "metadata": {
  "kernelspec": {
   "display_name": "Python 3",
   "language": "python",
   "name": "python3"
  },
  "language_info": {
   "codemirror_mode": {
    "name": "ipython",
    "version": 3
   },
   "file_extension": ".py",
   "mimetype": "text/x-python",
   "name": "python",
   "nbconvert_exporter": "python",
   "pygments_lexer": "ipython3",
   "version": "3.12.2"
  },
  "orig_nbformat": 4,
  "vscode": {
   "interpreter": {
    "hash": "aee8b7b246df8f9039afb4144a1f6fd8d2ca17a180786b69acc140d282b71a49"
   }
  }
 },
 "nbformat": 4,
 "nbformat_minor": 2
}
