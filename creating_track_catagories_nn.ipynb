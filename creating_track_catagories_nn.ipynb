{
 "cells": [
  {
   "cell_type": "code",
   "execution_count": 6,
   "metadata": {},
   "outputs": [],
   "source": [
    "import pandas as pd\n",
    "import numpy as np\n",
    "import re"
   ]
  },
  {
   "cell_type": "code",
   "execution_count": 7,
   "metadata": {},
   "outputs": [],
   "source": [
    "dir = \"/Users/mckennaquam/Desktop/DS 4420/ML4420_project/\"\n",
    "\n",
    "\n",
    "df = pd.read_csv(dir + \"data/athlete_events.csv\")\n",
    "df = df[df[\"Sport\"] == \"Athletics\"]\n",
    "df = df.dropna(subset=['Age', 'Height', 'Weight', 'Sex', 'Event'])\n",
    "df = df[[\"Age\", \"Height\", \"Weight\", \"Sex\", \"Event\"]]"
   ]
  },
  {
   "cell_type": "code",
   "execution_count": 8,
   "metadata": {},
   "outputs": [],
   "source": [
    "# field events, shot put jav, anything throwing\n",
    "# spirts under 400\n",
    "# middle distance 800 - mile\n",
    "# long 5k +\n",
    "# jumping pole value, high jump, long jump\n",
    "\n",
    "\n",
    "def sort_athletics(e):\n",
    "    e = e.lower()\n",
    "\n",
    "    if (any(event in e for event in [\"jump\", \"vault\"])):\n",
    "        return \"Jump\"\n",
    "    elif (any(event in e for event in [\"discus\", \"javelin\", \"shot put\", \"throw\"])):\n",
    "        return \"Field\"\n",
    "    elif (any(event in e for event in [\"kilometre\", \"cross-country\", \"marathon\"])):\n",
    "        return \"Long\"\n",
    "    \n",
    "    elif (\"mile\" in e):\n",
    "        match = re.search(r'(\\d[\\d,]*)\\s+mile', e)\n",
    "        if match:\n",
    "            length = int(match.group(1).replace(',', ''))\n",
    "        else:\n",
    "            print(f\"ERROR: {e}\") \n",
    "\n",
    "        if (length <= 1):\n",
    "            return \"Mid\"\n",
    "        else:\n",
    "            return \"Long\"\n",
    "\n",
    "    elif (\"metre\" in e):\n",
    "\n",
    "        match = re.search(r'(\\d[\\d,]*)\\s+metre', e)\n",
    "        if match:\n",
    "            length = int(match.group(1).replace(',', ''))\n",
    "        else:\n",
    "            print(f\"ERROR: {e}\") \n",
    "\n",
    "        if length <= 400:\n",
    "            return \"Short\"\n",
    "        elif (length > 400 and  length <= 1609.34):\n",
    "            return \"Mid\"\n",
    "        else:\n",
    "            return \"Long\"\n",
    "    else:\n",
    "        # disgarding Decathalon, Pentathelon, Heptathlon, All Around\n",
    "        return \"Not Classed\"\n",
    "    \n",
    "\n",
    "df[\"event_catagory\"] = df[\"Event\"].apply(sort_athletics)"
   ]
  },
  {
   "cell_type": "code",
   "execution_count": 9,
   "metadata": {},
   "outputs": [
    {
     "data": {
      "text/plain": [
       "event_catagory\n",
       "Field           3995\n",
       "Jump            4142\n",
       "Long            7283\n",
       "Mid             2889\n",
       "Not Classed     1080\n",
       "Short          12985\n",
       "dtype: int64"
      ]
     },
     "execution_count": 9,
     "metadata": {},
     "output_type": "execute_result"
    }
   ],
   "source": [
    "df.groupby(\"event_catagory\").size()"
   ]
  },
  {
   "cell_type": "code",
   "execution_count": 10,
   "metadata": {},
   "outputs": [],
   "source": [
    "# rest of the data cleaning\n",
    "df = df[df[\"event_catagory\"] != \"Not Classed\"]\n",
    "df = df.drop('Event', axis=1)\n",
    "\n",
    "df[\"Sex_F\"] = np.where(df['Sex'] == \"F\", 1, 0)\n",
    "df[\"Sex_M\"] = np.where(df['Sex'] == \"M\", 1, 0)\n",
    "df = df.drop('Sex', axis=1)\n",
    "\n",
    "def scale(x):\n",
    "    return (x - min(x)) / (max(x) - min(x))\n",
    "\n",
    "df[[\"Age\", \"Height\", \"Weight\"]] = df[[\"Age\", \"Height\", \"Weight\"]].apply(scale)\n",
    "\n",
    "\n",
    "df.to_csv(dir + \"data/athletics_cleaned.csv\")"
   ]
  }
 ],
 "metadata": {
  "kernelspec": {
   "display_name": "Python 3",
   "language": "python",
   "name": "python3"
  },
  "language_info": {
   "codemirror_mode": {
    "name": "ipython",
    "version": 3
   },
   "file_extension": ".py",
   "mimetype": "text/x-python",
   "name": "python",
   "nbconvert_exporter": "python",
   "pygments_lexer": "ipython3",
   "version": "3.12.2 (v3.12.2:6abddd9f6a, Feb  6 2024, 17:02:06) [Clang 13.0.0 (clang-1300.0.29.30)]"
  },
  "orig_nbformat": 4,
  "vscode": {
   "interpreter": {
    "hash": "aee8b7b246df8f9039afb4144a1f6fd8d2ca17a180786b69acc140d282b71a49"
   }
  }
 },
 "nbformat": 4,
 "nbformat_minor": 2
}
