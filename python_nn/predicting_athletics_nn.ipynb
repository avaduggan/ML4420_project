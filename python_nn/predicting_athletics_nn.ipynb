{
 "cells": [
  {
   "cell_type": "code",
   "execution_count": 59,
   "metadata": {},
   "outputs": [],
   "source": [
    "import pandas as pd\n",
    "import numpy as np\n",
    "from sklearn.model_selection import train_test_split\n",
    "from sklearn.neural_network import MLPClassifier\n",
    "from sklearn.metrics import accuracy_score\n",
    "import re"
   ]
  },
  {
   "cell_type": "code",
   "execution_count": 60,
   "metadata": {},
   "outputs": [
    {
     "name": "stdout",
     "output_type": "stream",
     "text": [
      "83\n",
      "[\"Athletics Men's 1,500 metres\" \"Athletics Men's 1,500 metres Walk\"\n",
      " \"Athletics Men's 1,600 metres Medley Relay\"\n",
      " \"Athletics Men's 10 kilometres Walk\" \"Athletics Men's 10 mile Walk\"\n",
      " \"Athletics Men's 10,000 metres\" \"Athletics Men's 100 metres\"\n",
      " \"Athletics Men's 110 metres Hurdles\"\n",
      " \"Athletics Men's 2,500 metres Steeplechase\"\n",
      " \"Athletics Men's 2,590 metres Steeplechase\"\n",
      " \"Athletics Men's 20 kilometres Walk\" \"Athletics Men's 200 metres\"\n",
      " \"Athletics Men's 200 metres Hurdles\" \"Athletics Men's 3 mile, Team\"\n",
      " \"Athletics Men's 3,000 metres Steeplechase\"\n",
      " \"Athletics Men's 3,000 metres Walk\" \"Athletics Men's 3,000 metres, Team\"\n",
      " \"Athletics Men's 3,200 metres Steeplechase\"\n",
      " \"Athletics Men's 3,500 metres Walk\" \"Athletics Men's 4 mile, Team\"\n",
      " \"Athletics Men's 4 x 100 metres Relay\"\n",
      " \"Athletics Men's 4 x 400 metres Relay\"\n",
      " \"Athletics Men's 4,000 metres Steeplechase\" \"Athletics Men's 400 metres\"\n",
      " \"Athletics Men's 400 metres Hurdles\" \"Athletics Men's 5 mile\"\n",
      " \"Athletics Men's 5,000 metres\" \"Athletics Men's 5,000 metres, Team\"\n",
      " \"Athletics Men's 50 kilometres Walk\"\n",
      " \"Athletics Men's 56-pound Weight Throw\" \"Athletics Men's 60 metres\"\n",
      " \"Athletics Men's 800 metres\" \"Athletics Men's All-Around Championship\"\n",
      " \"Athletics Men's Cross-Country, Individual\"\n",
      " \"Athletics Men's Cross-Country, Team\" \"Athletics Men's Decathlon\"\n",
      " \"Athletics Men's Discus Throw\" \"Athletics Men's Discus Throw, Both Hands\"\n",
      " \"Athletics Men's Discus Throw, Greek Style\"\n",
      " \"Athletics Men's Hammer Throw\" \"Athletics Men's High Jump\"\n",
      " \"Athletics Men's Javelin Throw\"\n",
      " \"Athletics Men's Javelin Throw, Both Hands\"\n",
      " \"Athletics Men's Javelin Throw, Freestyle\" \"Athletics Men's Long Jump\"\n",
      " \"Athletics Men's Marathon\" \"Athletics Men's Pentathlon\"\n",
      " \"Athletics Men's Pentathlon (Ancient)\" \"Athletics Men's Pole Vault\"\n",
      " \"Athletics Men's Shot Put\" \"Athletics Men's Shot Put, Both Hands\"\n",
      " \"Athletics Men's Standing High Jump\" \"Athletics Men's Standing Long Jump\"\n",
      " \"Athletics Men's Standing Triple Jump\" \"Athletics Men's Stone Throw\"\n",
      " \"Athletics Men's Triple Jump\" \"Athletics Women's 1,500 metres\"\n",
      " \"Athletics Women's 10 kilometres Walk\" \"Athletics Women's 10,000 metres\"\n",
      " \"Athletics Women's 100 metres\" \"Athletics Women's 100 metres Hurdles\"\n",
      " \"Athletics Women's 20 kilometres Walk\" \"Athletics Women's 200 metres\"\n",
      " \"Athletics Women's 3,000 metres\"\n",
      " \"Athletics Women's 3,000 metres Steeplechase\"\n",
      " \"Athletics Women's 4 x 100 metres Relay\"\n",
      " \"Athletics Women's 4 x 400 metres Relay\" \"Athletics Women's 400 metres\"\n",
      " \"Athletics Women's 400 metres Hurdles\" \"Athletics Women's 5,000 metres\"\n",
      " \"Athletics Women's 80 metres Hurdles\" \"Athletics Women's 800 metres\"\n",
      " \"Athletics Women's Discus Throw\" \"Athletics Women's Hammer Throw\"\n",
      " \"Athletics Women's Heptathlon\" \"Athletics Women's High Jump\"\n",
      " \"Athletics Women's Javelin Throw\" \"Athletics Women's Long Jump\"\n",
      " \"Athletics Women's Marathon\" \"Athletics Women's Pentathlon\"\n",
      " \"Athletics Women's Pole Vault\" \"Athletics Women's Shot Put\"\n",
      " \"Athletics Women's Triple Jump\"]\n"
     ]
    }
   ],
   "source": [
    "df = pd.read_csv(\"data/athlete_events.csv\")\n",
    "df = df[df[\"Sport\"] == \"Athletics\"]\n",
    "df = df.dropna(subset=['Age', 'Height', 'Weight', 'Sex', 'Event'])\n",
    "df = df[[\"Age\", \"Height\", \"Weight\", \"Sex\", \"Event\"]]"
   ]
  },
  {
   "cell_type": "code",
   "execution_count": 61,
   "metadata": {},
   "outputs": [],
   "source": [
    "# field events, shot put jav, anything throwing\n",
    "# spirts under 400\n",
    "# middle distance 800 - mile\n",
    "# long 5k +\n",
    "# jumping pole value, high jump, long jump\n",
    "\n",
    "\n",
    "def sort_athletics(e):\n",
    "    e = e.lower()\n",
    "\n",
    "    if (any(event in e for event in [\"jump\", \"vault\"])):\n",
    "        return \"Jump\"\n",
    "    elif (any(event in e for event in [\"discus\", \"javelin\", \"shot put\", \"throw\"])):\n",
    "        return \"Field\"\n",
    "    elif (any(event in e for event in [\"kilometre\", \"cross-country\", \"marathon\"])):\n",
    "        return \"Long\"\n",
    "    \n",
    "    elif (\"mile\" in e):\n",
    "        match = re.search(r'(\\d[\\d,]*)\\s+mile', e)\n",
    "        if match:\n",
    "            length = int(match.group(1).replace(',', ''))\n",
    "        else:\n",
    "            print(f\"ERROR: {e}\") \n",
    "\n",
    "        if (length <= 1):\n",
    "            return \"Medium\"\n",
    "        else:\n",
    "            return \"Long\"\n",
    "\n",
    "    elif (\"metre\" in e):\n",
    "\n",
    "        match = re.search(r'(\\d[\\d,]*)\\s+metre', e)\n",
    "        if match:\n",
    "            length = int(match.group(1).replace(',', ''))\n",
    "        else:\n",
    "            print(f\"ERROR: {e}\") \n",
    "\n",
    "        if length <= 400:\n",
    "            return \"Short\"\n",
    "        elif (length > 400 and  length <= 1609.34):\n",
    "            return \"Medium\"\n",
    "        else:\n",
    "            return \"Long\"\n",
    "    else:\n",
    "        # disgarding Decathalon, Pentathelon, Heptathlon, All Around\n",
    "        return \"Not Classed\"\n",
    "    \n",
    "\n",
    "df[\"event_catagory\"] = df[\"Event\"].apply(sort_athletics)"
   ]
  },
  {
   "cell_type": "code",
   "execution_count": 65,
   "metadata": {},
   "outputs": [
    {
     "data": {
      "text/plain": [
       "event_catagory\n",
       "Field      3995\n",
       "Jump       4142\n",
       "Long       7283\n",
       "Medium     2889\n",
       "Short     12985\n",
       "dtype: int64"
      ]
     },
     "execution_count": 65,
     "metadata": {},
     "output_type": "execute_result"
    }
   ],
   "source": [
    "df.groupby(\"event_catagory\").size()"
   ]
  },
  {
   "cell_type": "code",
   "execution_count": 62,
   "metadata": {},
   "outputs": [],
   "source": [
    "df = df[df[\"event_catagory\"] != \"Not Classed\"]\n",
    "df = df.drop('Event', axis=1)\n",
    "\n",
    "df[\"Sex_F\"] = np.where(df['Sex'] == \"F\", 1, 0)\n",
    "df[\"Sex_M\"] = np.where(df['Sex'] == \"M\", 1, 0)\n",
    "df = df.drop('Sex', axis=1)\n",
    "\n",
    "def scale(x):\n",
    "    return (x - min(x)) / (max(x) - min(x))\n",
    "\n",
    "df[[\"Age\", \"Height\", \"Weight\"]] = df[[\"Age\", \"Height\", \"Weight\"]].apply(scale)\n",
    "\n",
    "# split into features and test train split\n",
    "y = df[\"event_catagory\"]\n",
    "X = df[[\"Age\", \"Height\", \"Weight\", \"Sex_F\", \"Sex_M\"]]\n",
    "X_train, X_test, y_train, y_test = train_test_split(X, y, test_size=0.2)"
   ]
  },
  {
   "cell_type": "code",
   "execution_count": 63,
   "metadata": {},
   "outputs": [
    {
     "name": "stdout",
     "output_type": "stream",
     "text": [
      "0.6448314427224796\n"
     ]
    }
   ],
   "source": [
    "# train model\n",
    "mlp = MLPClassifier(hidden_layer_sizes=(200, 100, 50), activation=\"relu\", solver=\"adam\", max_iter=1000, random_state=42)\n",
    "mlp.fit(X_train, y_train)\n",
    "\n",
    "# see how model performs\n",
    "y_pred = mlp.predict(X_test)\n",
    "accuracy = accuracy_score(y_test, y_pred)\n",
    "\n",
    "print(accuracy)"
   ]
  },
  {
   "cell_type": "code",
   "execution_count": 64,
   "metadata": {},
   "outputs": [
    {
     "data": {
      "text/html": [
       "<div>\n",
       "<style scoped>\n",
       "    .dataframe tbody tr th:only-of-type {\n",
       "        vertical-align: middle;\n",
       "    }\n",
       "\n",
       "    .dataframe tbody tr th {\n",
       "        vertical-align: top;\n",
       "    }\n",
       "\n",
       "    .dataframe thead th {\n",
       "        text-align: right;\n",
       "    }\n",
       "</style>\n",
       "<table border=\"1\" class=\"dataframe\">\n",
       "  <thead>\n",
       "    <tr style=\"text-align: right;\">\n",
       "      <th></th>\n",
       "      <th>correct_label</th>\n",
       "      <th>accuracy_percentage</th>\n",
       "    </tr>\n",
       "  </thead>\n",
       "  <tbody>\n",
       "    <tr>\n",
       "      <th>0</th>\n",
       "      <td>Field</td>\n",
       "      <td>81.101377</td>\n",
       "    </tr>\n",
       "    <tr>\n",
       "      <th>1</th>\n",
       "      <td>Jump</td>\n",
       "      <td>16.203144</td>\n",
       "    </tr>\n",
       "    <tr>\n",
       "      <th>2</th>\n",
       "      <td>Long</td>\n",
       "      <td>72.807614</td>\n",
       "    </tr>\n",
       "    <tr>\n",
       "      <th>3</th>\n",
       "      <td>Medium</td>\n",
       "      <td>0.702988</td>\n",
       "    </tr>\n",
       "    <tr>\n",
       "      <th>4</th>\n",
       "      <td>Short</td>\n",
       "      <td>84.033938</td>\n",
       "    </tr>\n",
       "  </tbody>\n",
       "</table>\n",
       "</div>"
      ],
      "text/plain": [
       "  correct_label  accuracy_percentage\n",
       "0         Field            81.101377\n",
       "1          Jump            16.203144\n",
       "2          Long            72.807614\n",
       "3        Medium             0.702988\n",
       "4         Short            84.033938"
      ]
     },
     "execution_count": 64,
     "metadata": {},
     "output_type": "execute_result"
    }
   ],
   "source": [
    "results = {\"labels\":y_test, \"predicted\":y_pred}\n",
    "df_results = pd.DataFrame(results)\n",
    "\n",
    "df_results[\"is_correct\"] = df_results[\"labels\"] == df_results['predicted']\n",
    "df_counts = df_results.groupby([\"labels\", \"is_correct\"]).size().reset_index(name=\"count\")\n",
    "\n",
    "total_counts = df_results.groupby('labels').size()\n",
    "correct_counts = df_results[df_results['labels'] == df_results['predicted']].groupby(\"labels\").size()\n",
    "\n",
    "# Compute the percentage of correct predictions\n",
    "accuracy = (correct_counts / total_counts * 100).fillna(0).reset_index()\n",
    "accuracy.columns = ['correct_label', 'accuracy_percentage']\n",
    "\n",
    "accuracy"
   ]
  },
  {
   "cell_type": "code",
   "execution_count": 66,
   "metadata": {},
   "outputs": [
    {
     "data": {
      "image/png": "[encoded data removed]",
      "text/plain": [
       "<Figure size 640x480 with 2 Axes>"
      ]
     },
     "metadata": {},
     "output_type": "display_data"
    }
   ],
   "source": [
    "import matplotlib.pyplot as plt\n",
    "\n",
    "sorted_labels = np.sort(df_results[\"labels\"].unique())\n",
    "\n",
    "index_dict = {label: i for i, label in enumerate(sorted_labels)}\n",
    "\n",
    "df_results[\"labels_indexed\"] = df_results[\"labels\"].map(index_dict)\n",
    "df_results[\"predictions_indexed\"] = df_results[\"predicted\"].map(index_dict)\n",
    "\n",
    "plt.hist2d(df_results[\"labels_indexed\"], df_results[\"predictions_indexed\"], bins=5, cmap=plt.cm.Blues)\n",
    "\n",
    "\n",
    "plt.xticks(ticks=np.arange(len(sorted_labels)), labels=sorted_labels, rotation=45)\n",
    "plt.yticks(ticks=np.arange(len(sorted_labels)), labels=sorted_labels)\n",
    "\n",
    "# Add labels and title\n",
    "plt.xlabel('Correct Labels')\n",
    "plt.ylabel('Predictions')\n",
    "\n",
    "# Add a colorbar to show the frequency scale\n",
    "plt.colorbar(label='Frequency')\n",
    "\n",
    "# Show the plot\n",
    "plt.show()"
   ]
  }
 ],
 "metadata": {
  "kernelspec": {
   "display_name": "Python 3",
   "language": "python",
   "name": "python3"
  },
  "language_info": {
   "codemirror_mode": {
    "name": "ipython",
    "version": 3
   },
   "file_extension": ".py",
   "mimetype": "text/x-python",
   "name": "python",
   "nbconvert_exporter": "python",
   "pygments_lexer": "ipython3",
   "version": "3.12.2 (v3.12.2:6abddd9f6a, Feb  6 2024, 17:02:06) [Clang 13.0.0 (clang-1300.0.29.30)]"
  },
  "orig_nbformat": 4,
  "vscode": {
   "interpreter": {
    "hash": "aee8b7b246df8f9039afb4144a1f6fd8d2ca17a180786b69acc140d282b71a49"
   }
  }
 },
 "nbformat": 4,
 "nbformat_minor": 2
}
